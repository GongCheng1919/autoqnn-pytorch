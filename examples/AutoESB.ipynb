{
 "cells": [
  {
   "cell_type": "markdown",
   "id": "18be95b4",
   "metadata": {},
   "source": [
    "# AutoESB\n",
    "AutoESB是为了实现自动的量化方法以及混合量化位宽搜索"
   ]
  },
  {
   "cell_type": "code",
   "execution_count": 1,
   "id": "a46d570c",
   "metadata": {},
   "outputs": [],
   "source": [
    "import os\n",
    "import sys\n",
    "import numpy as np\n",
    "import matplotlib.pyplot as plt\n",
    "import torch\n",
    "from torch import nn\n",
    "sys.path.append(\"/workspace/packages/autoqnn\")\n",
    "import autoqnn"
   ]
  },
  {
   "cell_type": "markdown",
   "id": "8344d24d",
   "metadata": {},
   "source": [
    "## 1. Implement ESB"
   ]
  },
  {
   "cell_type": "code",
   "execution_count": null,
   "id": "370a40fb",
   "metadata": {},
   "outputs": [],
   "source": []
  }
 ],
 "metadata": {
  "kernelspec": {
   "display_name": "Python 3 (ipykernel)",
   "language": "python",
   "name": "python3"
  },
  "language_info": {
   "codemirror_mode": {
    "name": "ipython",
    "version": 3
   },
   "file_extension": ".py",
   "mimetype": "text/x-python",
   "name": "python",
   "nbconvert_exporter": "python",
   "pygments_lexer": "ipython3",
   "version": "3.10.11"
  }
 },
 "nbformat": 4,
 "nbformat_minor": 5
}
